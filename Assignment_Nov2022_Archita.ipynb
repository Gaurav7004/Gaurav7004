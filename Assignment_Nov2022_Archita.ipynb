{
  "nbformat": 4,
  "nbformat_minor": 0,
  "metadata": {
    "colab": {
      "provenance": [],
      "collapsed_sections": [],
      "authorship_tag": "ABX9TyNGx9HSxqzHd13lRMZxgGXB",
      "include_colab_link": true
    },
    "kernelspec": {
      "name": "python3",
      "display_name": "Python 3"
    },
    "language_info": {
      "name": "python"
    }
  },
  "cells": [
    {
      "cell_type": "markdown",
      "metadata": {
        "id": "view-in-github",
        "colab_type": "text"
      },
      "source": [
        "<a href=\"https://colab.research.google.com/github/Gaurav7004/Gaurav7004/blob/main/Assignment_Nov2022_Archita.ipynb\" target=\"_parent\"><img src=\"https://colab.research.google.com/assets/colab-badge.svg\" alt=\"Open In Colab\"/></a>"
      ]
    },
    {
      "cell_type": "markdown",
      "source": [
        "**Question 1. Write a Python program to display a bar chart of the popularity of sweets in India. Use different color for each bar.**\n",
        "\n",
        "Sample data :: \n",
        "\n",
        "Sweets: Rasgulla, Rabri, Sandesh, Kaju Katli, Ladoo, Barfi\n",
        "\n",
        "Popularity: 22.2, 17.6, 8.8, 8, 7.7, 6.7\n",
        "\n"
      ],
      "metadata": {
        "id": "8zuUff9ZiTA0"
      }
    },
    {
      "cell_type": "code",
      "execution_count": null,
      "metadata": {
        "id": "NwQNkx4eiR82"
      },
      "outputs": [],
      "source": []
    },
    {
      "cell_type": "markdown",
      "source": [
        "**Question 2. Write a Python program to create bar plot of scores by group and gender. Use multiple X values on the same chart for men and women.**\n",
        "\n",
        "Sample Data ::\n",
        "\n",
        "Means (men) = 22, 30, 35, 35, 26\n",
        "\n",
        "Means (women) = 25, 32, 30, 35, 29\n",
        "\n"
      ],
      "metadata": {
        "id": "0HfgzeAyjkip"
      }
    },
    {
      "cell_type": "code",
      "source": [],
      "metadata": {
        "id": "csJcBriJjlIp"
      },
      "execution_count": null,
      "outputs": []
    },
    {
      "cell_type": "markdown",
      "source": [
        "**Question 3. Write a python program to display subpolts by country for x-axis resource and y-axis average.**\n",
        "\n",
        "*Note - Use bar plot in this question\n",
        "\n",
        "Sample Data ::\n",
        "\n",
        "country = [india, india, india, USA, USA, USA, Germany, Germany, Germany]\n",
        "\n",
        "resource = [water, soil, tree, water, soil, tree, water, soil, water]\n",
        "\n",
        "average = [76, 45, 60, 45, 70, 34, 67, 83, 67]"
      ],
      "metadata": {
        "id": "6p7L6XxTjnvi"
      }
    },
    {
      "cell_type": "code",
      "source": [],
      "metadata": {
        "id": "c5ZXRsVGjoEZ"
      },
      "execution_count": null,
      "outputs": []
    },
    {
      "cell_type": "markdown",
      "source": [
        "**Question 4. Write a python program to display sub plots of top three countries with highest resource. **\n",
        "\n",
        "*Note - Use PIE PLOT in this question\n",
        "\n",
        "Sample Data :: \n",
        "\n",
        "country = [India, India, India, USA, USA, USA, Germany, Germany, Germany, Russia, Russia, Russia, China, China, China]\n",
        "\n",
        "resource = [water, soil, tree, water, soil, tree, water, soil, water, water, soil, water, water, soil, water]\n",
        "\n",
        "average = [76, 45, 60, 45, 70, 34, 67, 83, 67, 76, 45, 60, 45, 70, 34]"
      ],
      "metadata": {
        "id": "lXJ-GICNjoeQ"
      }
    },
    {
      "cell_type": "code",
      "source": [],
      "metadata": {
        "id": "Phu4Xy5Fjo1M"
      },
      "execution_count": null,
      "outputs": []
    },
    {
      "cell_type": "markdown",
      "source": [
        "**Question 5. Write a python program to draw the approximate line of regression.**\n",
        "\n",
        "Sample Data::\n",
        "\n",
        "x = [5,7,8,7,2,17,2,9,4,11,12,9,6]\n",
        "\n",
        "y = [99,86,87,88,111,86,103,87,94,78,77,85,86]"
      ],
      "metadata": {
        "id": "Xg96jRewjpSK"
      }
    },
    {
      "cell_type": "code",
      "source": [],
      "metadata": {
        "id": "QD7cW1__jpkc"
      },
      "execution_count": null,
      "outputs": []
    }
  ]
}